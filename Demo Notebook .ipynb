{
    "cells": [
        {
            "metadata": {
                "collapsed": true
            },
            "cell_type": "markdown",
            "source": "# Precipitation Analysis\nJust a Demo "
        },
        {
            "metadata": {},
            "cell_type": "code",
            "source": "\nimport os, types\nimport pandas as pd\nfrom botocore.client import Config\nimport ibm_boto3\n\ndef __iter__(self): return 0\n\n# @hidden_cell\n# The following code accesses a file in your IBM Cloud Object Storage. It includes your credentials.\n# You might want to remove those credentials before you share the notebook.\n\nif os.environ.get('RUNTIME_ENV_LOCATION_TYPE') == 'external':\n    endpoint_6bab2434042a417abd1a0d039c9e736b = 'https://s3.ap.cloud-object-storage.appdomain.cloud'\nelse:\n    endpoint_6bab2434042a417abd1a0d039c9e736b = 'https://s3.private.ap.cloud-object-storage.appdomain.cloud'\n\nclient_6bab2434042a417abd1a0d039c9e736b = ibm_boto3.client(service_name='s3',\n    ibm_api_key_id='6CpyJeLM4Y-pXdFwnsCyJJe_xBiy_ou2e_T_PNtIaqV4',\n    ibm_auth_endpoint=\"https://iam.cloud.ibm.com/oidc/token\",\n    config=Config(signature_version='oauth'),\n    endpoint_url=endpoint_6bab2434042a417abd1a0d039c9e736b)\n\nbody = client_6bab2434042a417abd1a0d039c9e736b.get_object(Bucket='firstproject-donotdelete-pr-vyyg22yygmdkku',Key='precipitation.csv')['Body']\n# add missing __iter__ method, so pandas accepts body as file-like object\nif not hasattr(body, \"__iter__\"): body.__iter__ = types.MethodType( __iter__, body )\n\ndf_data_1 = pd.read_csv(body)\ndf_data_1.head()\n",
            "execution_count": 1,
            "outputs": [
                {
                    "output_type": "execute_result",
                    "execution_count": 1,
                    "data": {
                        "text/plain": "  Country or Area  Year    Value  Value Footnotes                  Unit\n0         Albania  2007  30964.0              NaN  million cubic metres\n1         Albania  2006  32380.0              NaN  million cubic metres\n2         Albania  2005  42840.0              NaN  million cubic metres\n3         Albania  2004  42787.0              NaN  million cubic metres\n4         Albania  2003  27893.0              NaN  million cubic metres",
                        "text/html": "<div>\n<style scoped>\n    .dataframe tbody tr th:only-of-type {\n        vertical-align: middle;\n    }\n\n    .dataframe tbody tr th {\n        vertical-align: top;\n    }\n\n    .dataframe thead th {\n        text-align: right;\n    }\n</style>\n<table border=\"1\" class=\"dataframe\">\n  <thead>\n    <tr style=\"text-align: right;\">\n      <th></th>\n      <th>Country or Area</th>\n      <th>Year</th>\n      <th>Value</th>\n      <th>Value Footnotes</th>\n      <th>Unit</th>\n    </tr>\n  </thead>\n  <tbody>\n    <tr>\n      <th>0</th>\n      <td>Albania</td>\n      <td>2007</td>\n      <td>30964.0</td>\n      <td>NaN</td>\n      <td>million cubic metres</td>\n    </tr>\n    <tr>\n      <th>1</th>\n      <td>Albania</td>\n      <td>2006</td>\n      <td>32380.0</td>\n      <td>NaN</td>\n      <td>million cubic metres</td>\n    </tr>\n    <tr>\n      <th>2</th>\n      <td>Albania</td>\n      <td>2005</td>\n      <td>42840.0</td>\n      <td>NaN</td>\n      <td>million cubic metres</td>\n    </tr>\n    <tr>\n      <th>3</th>\n      <td>Albania</td>\n      <td>2004</td>\n      <td>42787.0</td>\n      <td>NaN</td>\n      <td>million cubic metres</td>\n    </tr>\n    <tr>\n      <th>4</th>\n      <td>Albania</td>\n      <td>2003</td>\n      <td>27893.0</td>\n      <td>NaN</td>\n      <td>million cubic metres</td>\n    </tr>\n  </tbody>\n</table>\n</div>"
                    },
                    "metadata": {}
                }
            ]
        },
        {
            "metadata": {},
            "cell_type": "code",
            "source": "",
            "execution_count": null,
            "outputs": []
        }
    ],
    "metadata": {
        "kernelspec": {
            "name": "python3",
            "display_name": "Python 3.8",
            "language": "python"
        },
        "language_info": {
            "name": "python",
            "version": "3.8.12",
            "mimetype": "text/x-python",
            "codemirror_mode": {
                "name": "ipython",
                "version": 3
            },
            "pygments_lexer": "ipython3",
            "nbconvert_exporter": "python",
            "file_extension": ".py"
        }
    },
    "nbformat": 4,
    "nbformat_minor": 1
}